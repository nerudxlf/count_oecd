{
  "nbformat": 4,
  "nbformat_minor": 0,
  "metadata": {
    "colab": {
      "name": "main.ipynb",
      "provenance": [],
      "authorship_tag": "ABX9TyPNX568TLYqNgWjJ5RnjtvF",
      "include_colab_link": true
    },
    "kernelspec": {
      "name": "python3",
      "display_name": "Python 3"
    }
  },
  "cells": [
    {
      "cell_type": "markdown",
      "metadata": {
        "id": "view-in-github",
        "colab_type": "text"
      },
      "source": [
        "<a href=\"https://colab.research.google.com/github/nerudxlf/count_oecd/blob/main/main.ipynb\" target=\"_parent\"><img src=\"https://colab.research.google.com/assets/colab-badge.svg\" alt=\"Open In Colab\"/></a>"
      ]
    },
    {
      "cell_type": "code",
      "metadata": {
        "id": "KeZ7bbPW74o9"
      },
      "source": [
        "from collections import Counter\n",
        "from google.colab import files\n",
        "\n",
        "import pandas as pd\n",
        "\n",
        "files.upload()"
      ],
      "execution_count": null,
      "outputs": []
    },
    {
      "cell_type": "code",
      "metadata": {
        "id": "TmVt6dmO8R4E"
      },
      "source": [
        "def list_to_upper_case(data_list: list) -> list:\n",
        "    \"\"\"\n",
        "    Функция для изменения регистра названий в списке\n",
        "    :param data_list: список с данными\n",
        "    :return: возвращает новый список с элементами в новом регистре\n",
        "    \"\"\"\n",
        "    return_list = []\n",
        "    for i in data_list:\n",
        "        return_list.append(i.upper())\n",
        "    return return_list"
      ],
      "execution_count": null,
      "outputs": []
    },
    {
      "cell_type": "code",
      "metadata": {
        "id": "GvL90T298TUW"
      },
      "source": [
        "input_xlsx_df = pd.read_excel(\"input.xls\")['WoS Categories']\n",
        "oecd_category_df = pd.read_excel(\"OECD Category Mapping.xlsx\")\n",
        "input_xlsx_list: list = input_xlsx_df.to_list()\n",
        "input_xlsx_df_upper: list = list_to_upper_case(input_xlsx_list)\n",
        "\n",
        "result_list: list = []\n",
        "get_result_oecd_and_wos_category: list = []\n",
        "get_list_all_wos_category: list = []\n",
        "\n",
        "uniq_dict_description = dict.fromkeys(oecd_category_df[\"Description\"].to_list(), \"\")\n",
        "list_description = oecd_category_df[\"Description\"].to_list()\n",
        "list_wos_description = oecd_category_df[\"WoS_Description\"].to_list()\n",
        "\n",
        "for i in range(len(list_description)):\n",
        "  uniq_dict_description[list_description[i]] += list_wos_description[i] + \";\"\n",
        "\n",
        "for elem in input_xlsx_df_upper:\n",
        "  dict_append = {}\n",
        "  for key, item in uniq_dict_description.items():\n",
        "    for i in elem.split(\"; \"):\n",
        "      if item.find(i) != -1:\n",
        "        dict_append.update({key: i})\n",
        "  get_result_oecd_and_wos_category.append(dict_append)\n",
        "\n",
        "for element in get_result_oecd_and_wos_category:\n",
        "  append_list = []\n",
        "  for item in element.values():\n",
        "    append_list.append(item)\n",
        "  get_list_all_wos_category.append(list(set(append_list)))\n",
        "\n",
        "for item in get_list_all_wos_category:\n",
        "  for values in item:\n",
        "    result_list.append(values)\n",
        "\n",
        "dict_title_value = dict(Counter(result_list))\n",
        "list_to_df_title = list(dict_title_value.keys())\n",
        "list_to_df_category = list(dict_title_value.values())\n",
        "\n",
        "title_category_df = pd.DataFrame({\"wos_category\": list_to_df_title, \"value\": list_to_df_category})\n",
        "result_df = pd.merge(left=oecd_category_df, right=title_category_df, right_on=\"wos_category\",\n",
        "                    left_on=\"WoS_Description\")\n",
        "\n",
        "result_df.to_excel(\"result_new.xlsx\", index=False)"
      ],
      "execution_count": null,
      "outputs": []
    }
  ]
}