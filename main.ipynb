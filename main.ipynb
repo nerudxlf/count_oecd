{
  "nbformat": 4,
  "nbformat_minor": 0,
  "metadata": {
    "colab": {
      "name": "main.ipynb",
      "provenance": [],
      "authorship_tag": "ABX9TyMkBLv/q3lSCKNuW/XY78ym",
      "include_colab_link": true
    },
    "kernelspec": {
      "name": "python3",
      "display_name": "Python 3"
    }
  },
  "cells": [
    {
      "cell_type": "markdown",
      "metadata": {
        "id": "view-in-github",
        "colab_type": "text"
      },
      "source": [
        "<a href=\"https://colab.research.google.com/github/nerudxlf/count_oecd/blob/main/main.ipynb\" target=\"_parent\"><img src=\"https://colab.research.google.com/assets/colab-badge.svg\" alt=\"Open In Colab\"/></a>"
      ]
    },
    {
      "cell_type": "code",
      "metadata": {
        "id": "KeZ7bbPW74o9"
      },
      "source": [
        "from collections import Counter\r\n",
        "from google.colab import files\r\n",
        "\r\n",
        "import pandas as pd\r\n",
        "\r\n",
        "files.upload()"
      ],
      "execution_count": null,
      "outputs": []
    },
    {
      "cell_type": "code",
      "metadata": {
        "id": "TmVt6dmO8R4E"
      },
      "source": [
        "def list_to_upper_case(data_list: list) -> list:\r\n",
        "    \"\"\"\r\n",
        "    Функция для изменения регистра названий в списке\r\n",
        "    :param data_list: список с данными\r\n",
        "    :return: возвращает новый список с элементами в новом регистре\r\n",
        "    \"\"\"\r\n",
        "    return_list = []\r\n",
        "    for i in data_list:\r\n",
        "        return_list.append(i.upper())\r\n",
        "    return return_list"
      ],
      "execution_count": null,
      "outputs": []
    },
    {
      "cell_type": "code",
      "metadata": {
        "id": "GvL90T298TUW"
      },
      "source": [
        "input_xlsx_df = pd.read_excel(\"input.xls\")['WoS Categories']\r\n",
        "oecd_category_df = pd.read_excel(\"OECD Category Mapping.xlsx\")\r\n",
        "input_xlsx_list: list = input_xlsx_df.to_list()\r\n",
        "input_xlsx_df_upper: list = list_to_upper_case(input_xlsx_list)\r\n",
        "\r\n",
        "result_list: list = []\r\n",
        "get_result_oecd_and_wos_category: list = []\r\n",
        "get_list_all_wos_category: list = []\r\n",
        "\r\n",
        "uniq_dict_description = dict.fromkeys(oecd_category_df[\"Description\"].to_list(), \"\")\r\n",
        "list_description = oecd_category_df[\"Description\"].to_list()\r\n",
        "list_wos_description = oecd_category_df[\"WoS_Description\"].to_list()\r\n",
        "\r\n",
        "for i in range(len(list_description)):\r\n",
        "  uniq_dict_description[list_description[i]] += list_wos_description[i] + \";\"\r\n",
        "\r\n",
        "for elem in input_xlsx_df_upper:\r\n",
        "  dict_append = {}\r\n",
        "  for key, item in uniq_dict_description.items():\r\n",
        "    for i in elem.split(\"; \"):\r\n",
        "      if item.find(i) != -1:\r\n",
        "        dict_append |= {key: i}\r\n",
        "  get_result_oecd_and_wos_category.append(dict_append)\r\n",
        "\r\n",
        "for element in get_result_oecd_and_wos_category:\r\n",
        "  append_list = []\r\n",
        "  for item in element.values():\r\n",
        "    append_list.append(item)\r\n",
        "  get_list_all_wos_category.append(list(set(append_list)))\r\n",
        "\r\n",
        "for item in get_list_all_wos_category:\r\n",
        "  for values in item:\r\n",
        "    result_list.append(values)\r\n",
        "\r\n",
        "dict_title_value = dict(Counter(result_list))\r\n",
        "list_to_df_title = list(dict_title_value.keys())\r\n",
        "list_to_df_category = list(dict_title_value.values())\r\n",
        "\r\n",
        "title_category_df = pd.DataFrame({\"wos_category\": list_to_df_title, \"value\": list_to_df_category})\r\n",
        "result_df = pd.merge(left=oecd_category_df, right=title_category_df, right_on=\"wos_category\",\r\n",
        "                    left_on=\"WoS_Description\")\r\n",
        "\r\n",
        "result_df.to_excel(\"result_new.xlsx\", index=False)"
      ],
      "execution_count": null,
      "outputs": []
    }
  ]
}